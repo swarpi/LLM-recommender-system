{
 "cells": [
  {
   "cell_type": "code",
   "execution_count": 10,
   "metadata": {},
   "outputs": [],
   "source": [
    "import re\n",
    "import string\n",
    "from Levenshtein import ratio\n",
    "import numpy as np\n",
    "\n",
    "# Normalize function\n",
    "def normalize(text):\n",
    "    text = text.lower()\n",
    "    text = text.translate(str.maketrans('', '', string.punctuation))\n",
    "    text = re.sub('\\s+', ' ', text).strip()\n",
    "    return text"
   ]
  },
  {
   "cell_type": "code",
   "execution_count": 11,
   "metadata": {},
   "outputs": [],
   "source": [
    "import pickle\n",
    "\n",
    "def get_test_item_by_userid(pkl_file_path, user_id):\n",
    "    # Load the retrieved.pkl data\n",
    "    with open(pkl_file_path, 'rb') as f:\n",
    "        retrieved_data = pickle.load(f)\n",
    "    \n",
    "    # Extract the relevant dictionaries\n",
    "    test = retrieved_data['test']\n",
    "    meta = retrieved_data['meta']\n",
    "    umap = retrieved_data['umap']\n",
    "    \n",
    "    # Check if the user_id exists in umap\n",
    "    if user_id not in umap:\n",
    "        print(f\"User ID {user_id} not found in umap.\")\n",
    "        return None\n",
    "    \n",
    "    # Get the user index\n",
    "    user_index = umap[user_id]\n",
    "    \n",
    "    # Get the test item ID(s) for the user\n",
    "    test_item_ids = test.get(user_index)\n",
    "    if not test_item_ids:\n",
    "        print(f\"No test items found for user index {user_index}.\")\n",
    "        return None\n",
    "    \n",
    "    # Get the product name(s) from meta\n",
    "    product_names = []\n",
    "    for test_item_id in test_item_ids:\n",
    "        product_name = meta.get(test_item_id)\n",
    "        if product_name:\n",
    "            product_names.append(product_name)\n",
    "        else:\n",
    "            print(f\"Product ID {test_item_id} not found in meta.\")\n",
    "    \n",
    "    return product_names\n"
   ]
  },
  {
   "cell_type": "code",
   "execution_count": 12,
   "metadata": {},
   "outputs": [
    {
     "name": "stdout",
     "output_type": "stream",
     "text": [
      "Test product(s) for user AFSKPY37N3C43SOI5IEXEK5JSIYA:\n",
      "NIRA Skincare Laser & Serum Bundle - Includes Anti-Aging Laser & Hyaluronic Acid Serum - Reduces Appearance of Fine Lines & Wrinkles - FDA Cleared\n"
     ]
    }
   ],
   "source": [
    "# Path to your retrieved.pkl file\n",
    "pkl_file_path = 'data/dataset.pkl'  # Update this path\n",
    "\n",
    "# The user ID you want to look up\n",
    "user_id = 'AFSKPY37N3C43SOI5IEXEK5JSIYA'  # Replace with your user ID\n",
    "\n",
    "# Get the test product names\n",
    "test_product_names = get_test_item_by_userid(pkl_file_path, user_id)\n",
    "\n",
    "if test_product_names:\n",
    "    print(f\"Test product(s) for user {user_id}:\")\n",
    "    for product_name in test_product_names:\n",
    "        print(product_name)\n",
    "else:\n",
    "    print(\"Test product not found.\")\n"
   ]
  },
  {
   "cell_type": "code",
   "execution_count": 20,
   "metadata": {},
   "outputs": [
    {
     "data": {
      "text/plain": [
       "['NIRA Skincare Laser & Serum Bundle - Includes Anti-Aging Laser & Hyaluronic Acid Serum - Reduces Appearance of Fine Lines & Wrinkles - FDA Cleared']"
      ]
     },
     "execution_count": 20,
     "metadata": {},
     "output_type": "execute_result"
    }
   ],
   "source": [
    "# Get test product names\n",
    "test_product_names = get_test_item_by_userid(pkl_file_path, user_id)\n",
    "\n",
    "if not test_product_names:\n",
    "    raise ValueError(f\"Test product not found for user {user_id}\")\n",
    "\n",
    "test_product_names\n"
   ]
  },
  {
   "cell_type": "code",
   "execution_count": 15,
   "metadata": {},
   "outputs": [],
   "source": [
    "# Normalize function (as defined previously)\n",
    "def normalize(text):\n",
    "    text = text.lower()\n",
    "    text = text.translate(str.maketrans('', '', string.punctuation))\n",
    "    text = re.sub('\\s+', ' ', text).strip()\n",
    "    return text\n",
    "\n",
    "# Normalize test product names\n",
    "normalized_test_products = [normalize(name) for name in test_product_names]\n",
    "\n",
    "# Similarity function\n",
    "def compute_similarity(str1, str2):\n",
    "    return ratio(str1, str2) * 100  # Convert to percentage\n"
   ]
  },
  {
   "cell_type": "code",
   "execution_count": 16,
   "metadata": {},
   "outputs": [],
   "source": [
    "normalized_test_products = [normalize(name) for name in test_product_names]"
   ]
  },
  {
   "cell_type": "code",
   "execution_count": 23,
   "metadata": {},
   "outputs": [],
   "source": [
    "recommended_products = [\"Fifth & Skin Better'n Ur Skin Mineral Bronzer (TOUCH OF SUN) - Natural Face Bronzer - Gluten Free Tan - Cruelty Free Makeup - Vegan - Paraben Free\", 'Keratin Secrets Keratin Infused Shampoo and Conditioner Duo 12 Ounce', 'Bath and Body Works 2 Pack Aromatherapy Stress Relief Sage and Cedarwood Body Wash & Foam Bath 10 Oz.', 'artnaturals Natural Face Makeup Primer - 1 Fl Oz Hydrating Facial Foundation - Long Lasting for Wrinkles, Oily Skin, and Pore Size - Rejuvenating Formula - Aloe Vera, Coconut Oil and Safflower Oil', 'Keratin Cure Brazilian Bio Chocolate Professional Complex Coconut Argan Oil Aminos Blow Out Hair Treatment Formaldehyde Free (160ml/ 5 fl oz) tratamiento keratina', 'Bath and Body Works - Aromatherapy - Promotes Stress Relief- Cedarwood & Sage- Body Wash & Foam Bath & Body Cream – Bundle', 'Organic Self Tanner for Face and Body - Streak Free Sunless Tanner - Self Tanning Lotion with Manuka Honey and Aloe Vera - Fake Tan for Fair to Medium Skin - Indoor Tanning Lotion with Bronzer (8oz)', 'Keragen - Volumizing Shampoo and Conditioner for Fine Hair with Keratin and Collagen, Sulfate Free', 'Flower Power Wellness Bath, Organic Bath Tea, Aromatherapy Bath with Essential Oils, Relaxing Bathing Salts', 'Ownest Matte Oil Control Concealer Foundation Cream, Broad Spectrum SPF 25, Long Lasting Waterproof Flawless Matte Sunscreen Liquid Foundation-104A Natural Beige']"
   ]
  },
  {
   "cell_type": "code",
   "execution_count": 26,
   "metadata": {},
   "outputs": [
    {
     "data": {
      "text/plain": [
       "['fifth skin bettern ur skin mineral bronzer touch of sun natural face bronzer gluten free tan cruelty free makeup vegan paraben free',\n",
       " 'keratin secrets keratin infused shampoo and conditioner duo 12 ounce',\n",
       " 'bath and body works 2 pack aromatherapy stress relief sage and cedarwood body wash foam bath 10 oz',\n",
       " 'artnaturals natural face makeup primer 1 fl oz hydrating facial foundation long lasting for wrinkles oily skin and pore size rejuvenating formula aloe vera coconut oil and safflower oil',\n",
       " 'keratin cure brazilian bio chocolate professional complex coconut argan oil aminos blow out hair treatment formaldehyde free 160ml 5 fl oz tratamiento keratina',\n",
       " 'bath and body works aromatherapy promotes stress relief cedarwood sage body wash foam bath body cream – bundle',\n",
       " 'organic self tanner for face and body streak free sunless tanner self tanning lotion with manuka honey and aloe vera fake tan for fair to medium skin indoor tanning lotion with bronzer 8oz',\n",
       " 'keragen volumizing shampoo and conditioner for fine hair with keratin and collagen sulfate free',\n",
       " 'flower power wellness bath organic bath tea aromatherapy bath with essential oils relaxing bathing salts',\n",
       " 'ownest matte oil control concealer foundation cream broad spectrum spf 25 long lasting waterproof flawless matte sunscreen liquid foundation104a natural beige']"
      ]
     },
     "execution_count": 26,
     "metadata": {},
     "output_type": "execute_result"
    }
   ],
   "source": [
    "normalized_recommended_products = [normalize(name) for name in recommended_products]\n",
    "normalized_recommended_products"
   ]
  },
  {
   "cell_type": "code",
   "execution_count": 27,
   "metadata": {},
   "outputs": [
    {
     "name": "stdout",
     "output_type": "stream",
     "text": [
      "Recall@10: 0.0\n",
      "NDCG@10: 0.0\n",
      "Product 1: Similarity Score = 42.42% - No Match\n",
      "Product 2: Similarity Score = 37.81% - No Match\n",
      "Product 3: Similarity Score = 34.63% - No Match\n",
      "Product 4: Similarity Score = 41.51% - No Match\n",
      "Product 5: Similarity Score = 40.41% - No Match\n",
      "Product 6: Similarity Score = 34.57% - No Match\n",
      "Product 7: Similarity Score = 41.12% - No Match\n",
      "Product 8: Similarity Score = 41.23% - No Match\n",
      "Product 9: Similarity Score = 37.97% - No Match\n",
      "Product 10: Similarity Score = 39.18% - No Match\n"
     ]
    }
   ],
   "source": [
    "SIMILARITY_THRESHOLD = 90.0\n",
    "similarity_scores = []\n",
    "matches = []\n",
    "for rec_product in normalized_recommended_products:\n",
    "    # Compute max similarity across all test products\n",
    "    sim_scores = [compute_similarity(rec_product, test_product) for test_product in normalized_test_products]\n",
    "    max_sim_score = max(sim_scores)\n",
    "    similarity_scores.append(max_sim_score)\n",
    "    matches.append(max_sim_score >= SIMILARITY_THRESHOLD)\n",
    "\n",
    "# Evaluate Recall@K and NDCG@K\n",
    "def recall_at_k(matches, k):\n",
    "    relevant_in_top_k = matches[:k].count(True)\n",
    "    total_relevant = 1  # Assuming one relevant item per user\n",
    "    recall = relevant_in_top_k / total_relevant\n",
    "    return recall\n",
    "\n",
    "def ndcg_at_k(matches, k):\n",
    "    relevance_scores = [1 if match else 0 for match in matches[:k]]\n",
    "    relevance_scores = np.array(relevance_scores)\n",
    "\n",
    "    gains = 2 ** relevance_scores - 1\n",
    "    discounts = np.log2(np.arange(2, relevance_scores.size + 2))\n",
    "    dcg = np.sum(gains / discounts)\n",
    "\n",
    "    # Ensure ideal_relevance is a NumPy array\n",
    "    ideal_relevance = np.sort(relevance_scores)[::-1]  # Sort in descending order\n",
    "    # Now ideal_relevance is a NumPy array, and element-wise operations can be performed\n",
    "    ideal_gains = 2 ** ideal_relevance - 1\n",
    "    idcg = np.sum(ideal_gains / discounts)\n",
    "\n",
    "    ndcg = dcg / idcg if idcg > 0 else 0.0\n",
    "    return ndcg\n",
    "\n",
    "\n",
    "K = 10\n",
    "recall = recall_at_k(matches, K)\n",
    "ndcg = ndcg_at_k(matches, K)\n",
    "\n",
    "print(f\"Recall@{K}: {recall}\")\n",
    "print(f\"NDCG@{K}: {ndcg}\")\n",
    "\n",
    "# Optionally, print similarity scores and matches\n",
    "for i, (score, match) in enumerate(zip(similarity_scores, matches)):\n",
    "    print(f\"Product {i+1}: Similarity Score = {score:.2f}% - {'Match' if match else 'No Match'}\")"
   ]
  },
  {
   "cell_type": "code",
   "execution_count": null,
   "metadata": {},
   "outputs": [],
   "source": []
  }
 ],
 "metadata": {
  "kernelspec": {
   "display_name": "master_torch_gpu",
   "language": "python",
   "name": "python3"
  },
  "language_info": {
   "codemirror_mode": {
    "name": "ipython",
    "version": 3
   },
   "file_extension": ".py",
   "mimetype": "text/x-python",
   "name": "python",
   "nbconvert_exporter": "python",
   "pygments_lexer": "ipython3",
   "version": "3.9.19"
  }
 },
 "nbformat": 4,
 "nbformat_minor": 2
}
