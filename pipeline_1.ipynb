{
 "cells": [
  {
   "cell_type": "code",
   "execution_count": 1,
   "metadata": {},
   "outputs": [
    {
     "name": "stderr",
     "output_type": "stream",
     "text": [
      "c:\\Users\\Trung\\anaconda3\\envs\\master_torch_gpu\\lib\\site-packages\\tqdm\\auto.py:21: TqdmWarning: IProgress not found. Please update jupyter and ipywidgets. See https://ipywidgets.readthedocs.io/en/stable/user_install.html\n",
      "  from .autonotebook import tqdm as notebook_tqdm\n",
      "Special tokens have been added in the vocabulary, make sure the associated word embeddings are fine-tuned or trained.\n",
      "Unused kwargs: ['_load_in_4bit', '_load_in_8bit', 'quant_method']. These kwargs are not used in <class 'transformers.utils.quantization_config.BitsAndBytesConfig'>.\n",
      "`low_cpu_mem_usage` was None, now set to True since model is quantized.\n",
      "Loading checkpoint shards: 100%|██████████| 2/2 [00:04<00:00,  2.36s/it]\n"
     ]
    }
   ],
   "source": [
    "from transformers import AutoTokenizer, pipeline, AutoModelForCausalLM\n",
    "import json\n",
    "import torch\n",
    "from transformers import (AutoTokenizer, AutoModelForCausalLM, BitsAndBytesConfig, pipeline)\n",
    "\n",
    "tokenizer = AutoTokenizer.from_pretrained(\"./models/hf-frompretrained-download/meta-llama/Meta-Llama-3-8B-Instruct\")\n",
    "model = AutoModelForCausalLM.from_pretrained(\"./models/hf-frompretrained-downloadmeta-llama/Meta-Llama-3-8B-Instruct\")\n",
    "\n",
    "\n"
   ]
  },
  {
   "cell_type": "markdown",
   "metadata": {},
   "source": []
  },
  {
   "cell_type": "code",
   "execution_count": 2,
   "metadata": {},
   "outputs": [],
   "source": [
    "#from transformers import pipeline\n",
    "pipeline = pipeline(\"text-generation\",\n",
    "                    model = model,\n",
    "                    tokenizer=tokenizer, \n",
    "                    eos_token_id=tokenizer.eos_token_id,\n",
    "                    max_length=520,\n",
    "                    num_return_sequences =1,\n",
    "                    device_map = \"auto\",\n",
    "                    )\n",
    "\n",
    "\n"
   ]
  },
  {
   "cell_type": "code",
   "execution_count": 3,
   "metadata": {},
   "outputs": [],
   "source": [
    "def get_response(prompt):\n",
    "    sequences = pipeline(\n",
    "        prompt,\n",
    "        max_length=2048,\n",
    "        num_return_sequences=1,\n",
    "        temperature=0.7,\n",
    "        top_k=50,\n",
    "        top_p=0.95,\n",
    "        repetition_penalty=1.2,\n",
    "        pad_token_id=tokenizer.eos_token_id,\n",
    "        truncation=True,\n",
    "    )\n",
    "    gen_text = sequences[0][\"generated_text\"]\n",
    "    \n",
    "    # Remove the input prompt from the generated text\n",
    "    response = gen_text[len(prompt):].strip()\n",
    "    \n",
    "    return response"
   ]
  },
  {
   "cell_type": "code",
   "execution_count": 4,
   "metadata": {},
   "outputs": [],
   "source": [
    "def create_user_profile(review):\n",
    "    prompt = f\"\"\"\n",
    "    You are an e-commerce recommender specialist. Your task is to create a comprehensive user profile based on the following reviews, listed in chronological order (oldest to newest):\n",
    "\n",
    "    {review}\n",
    "\n",
    "    Analyze this information and create a user profile following these steps:\n",
    "\n",
    "1. Long-term preferences: Identify themes and valued attributes.\n",
    "2. Short-term interests: Note recent preferences or emerging interests.\n",
    "3. Writing style and sentiment: Analyze tone, vocabulary, and overall sentiment.\n",
    "4. Demographic information: Infer age range, possible gender, and lifestyle.\n",
    "5. User profile summary: Combine insights into a concise profile.\n",
    "\n",
    "Present your analysis in a structured format, using clear headings for each section. Do not include any code in your response. Focus on creating a vivid picture of the user's preferences, habits, and potential future interests.The Created User Profile should not exceed 200 words \"\"\"\n",
    "    return get_response(prompt)\n",
    "\n"
   ]
  },
  {
   "cell_type": "code",
   "execution_count": 5,
   "metadata": {},
   "outputs": [
    {
     "name": "stdout",
     "output_type": "stream",
     "text": [
      "**User Profile**\n",
      "\n",
      "**Long-term Preferences**\n",
      "The user values effectiveness, ease of use, and convenience when it comes to their skincare routine. They prioritize products that deliver noticeable results and appreciate simplicity.\n",
      "\n",
      "**Short-term Interests**\n",
      "Recent purchases suggest the user has become interested in anti-aging treatments and laser-based solutions. Their enthusiasm for NIRA's product bundle indicates they may explore other similar offerings.\n",
      "\n",
      "**Writing Style and Sentiment**\n",
      "The reviewer writes enthusiastically, with a strong emphasis on positive experiences. They employ descriptive language to convey satisfaction, indicating a high level of engagement. The text exudes confidence, suggesting the user trusts their own opinions.\n",
      "\n",
      "**Demographic Information**\n",
      "Based on writing style and content, we infer:\n",
      "\t* Age Range: Late twenties to early thirties\n",
      "\t* Possible Gender: Female\n",
      "\t* Lifestyle: Busy professional seeking efficient self-care routines\n",
      "\n",
      "**Summary**: Our user profile reveals a proactive individual prioritizing effective skincare practices. With a focus on convenience and simplicity, she explores innovative solutions like laser technology. Her enthusiastic nature suggests loyalty towards brands offering seamless experience. As our data grows, expect her interests to shift toward more advanced, result-driven products.\n"
     ]
    }
   ],
   "source": [
    "# Example usage\n",
    "review = \"\"\"{\"rating\": 5.0, \"title\": \"Great for at home use and so easy to use!\", \"text\": \"This is perfect for my between salon visits. I have been using this now twice a week for over a month and I absolutely love it! My skin looks amazing and feels super smooth and silky. This is also super easy to use (just follow instructions). I can see already that I will begin expanding the time between visits which will definitely help me save money in the long run. Highly recommend!\", \"images\": [], \"asin\": \"B08P2DZB4X\", \"parent_asin\": \"B08P2DZB4X\", \"user_id\": \"AFSKPY37N3C43SOI5IEXEK5JSIYA\", \"timestamp\": 1627391044559, \"helpful_vote\": 0, \"verified_purchase\": false, \"product_name\": \"NIRA Skincare Laser & Serum Bundle - Includes Anti-Aging Laser & Hyaluronic Acid Serum - Reduces Appearance of Fine Lines & Wrinkles - FDA Cleared\"}\"\"\"\n",
    "\n",
    "profile = create_user_profile(review)\n",
    "print(profile)"
   ]
  },
  {
   "cell_type": "code",
   "execution_count": 6,
   "metadata": {},
   "outputs": [],
   "source": [
    "profile = f\"\"\"**User Profile**\n",
    "**Long-term Preferences**\n",
    "The user values effectiveness, ease of use, and convenience when it comes to their skincare routine. They prioritize products that deliver noticeable results and appreciate simplicity.\n",
    "\n",
    "**Short-term Interests**\n",
    "Recent purchases suggest the user has become interested in anti-aging treatments and laser-based solutions. Their enthusiasm for NIRA's product bundle indicates they may explore other similar offerings.\n",
    "\n",
    "**Writing Style and Sentiment**\n",
    "The reviewer writes enthusiastically, with a strong emphasis on positive experiences. They employ descriptive language to convey satisfaction, indicating a high level of engagement. The text exudes confidence, suggesting the user trusts their own opinions.\n",
    "\n",
    "**Demographic Information**\n",
    "Based on writing style and content, we infer:\n",
    "\t* Age Range: Late twenties to early thirties\n",
    "\t* Possible Gender: Female\n",
    "\t* Lifestyle: Busy professional seeking efficient self-care routines\n",
    "\n",
    "**Summary**: Our user profile reveals a proactive individual prioritizing effective skincare practices. With a focus on convenience and simplicity, she explores innovative solutions like laser technology. Her enthusiastic nature suggests loyalty towards brands offering seamless experience. As our data grows, expect her interests to shift toward more advanced, result-driven products.\"\"\""
   ]
  },
  {
   "cell_type": "code",
   "execution_count": 38,
   "metadata": {},
   "outputs": [],
   "source": [
    "def create_preliminary_recommendations(user_profile):\n",
    "    print(\"creatint Prelim rec\")\n",
    "    prompt =f\"\"\" You are an expert recommendation system. Based on the following user profile:\n",
    "\n",
    "{user_profile}\n",
    "\n",
    "Generate three general product categories that match the user's preferences and interests. For each category, provide:\n",
    "\n",
    "1. Name: [Non ambiguous Product or category name that is non ambiguous]\n",
    "   Reason: [1-2 sentences explaining the fit]\n",
    "\n",
    "**Guidelines:**\n",
    "- Do not mention specific brands or product names,except if there is any preference mentioned in the User Profile.\n",
    "- Use plain text with a numbered list.\n",
    "- Strictly follow the format\"\"\"\n",
    "    return get_response(prompt)"
   ]
  },
  {
   "cell_type": "code",
   "execution_count": 39,
   "metadata": {},
   "outputs": [
    {
     "name": "stdout",
     "output_type": "stream",
     "text": [
      "creatint Prelim rec\n",
      "provided above.\n",
      "\n",
      "\n",
      "\n",
      "Here are your recommendations based on the given information:\n",
      "\n",
      "\n",
      "1. **Smart Skincare Solutions**\n",
      "Reason: This category aligns with the user's interest in exploring new technologies, such as laser-based treatments, which promise noticeable results.\n",
      "\n",
      "\n",
      "2. **Effortless Beauty Essentials**\n",
      "Reason: Given the user's priority on convenience and simplicity, this category will appeal to them by focusing on easy-to-use, time-efficient beauty essentials that still deliver effective outcomes.\n",
      "\n",
      "\n",
      "3. **Result-Oriented Regimens**\n",
      "Reason: Building upon the user's enthusiasm for anti-aging treatments, this category caters to individuals seeking potent regimens that address specific concerns (e.g., fine lines, wrinkles) while providing clear instructions for optimal usage.\n"
     ]
    }
   ],
   "source": [
    "preliminary_rec = create_preliminary_recommendations(profile)\n",
    "print(preliminary_rec)"
   ]
  },
  {
   "cell_type": "code",
   "execution_count": null,
   "metadata": {},
   "outputs": [],
   "source": []
  }
 ],
 "metadata": {
  "kernelspec": {
   "display_name": "torch_gpu",
   "language": "python",
   "name": "python3"
  },
  "language_info": {
   "codemirror_mode": {
    "name": "ipython",
    "version": 3
   },
   "file_extension": ".py",
   "mimetype": "text/x-python",
   "name": "python",
   "nbconvert_exporter": "python",
   "pygments_lexer": "ipython3",
   "version": "3.9.19"
  }
 },
 "nbformat": 4,
 "nbformat_minor": 2
}
