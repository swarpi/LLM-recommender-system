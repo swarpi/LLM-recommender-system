{
 "cells": [
  {
   "cell_type": "code",
   "execution_count": 38,
   "metadata": {},
   "outputs": [
    {
     "name": "stderr",
     "output_type": "stream",
     "text": [
      "Special tokens have been added in the vocabulary, make sure the associated word embeddings are fine-tuned or trained.\n",
      "Unused kwargs: ['_load_in_4bit', '_load_in_8bit', 'quant_method']. These kwargs are not used in <class 'transformers.utils.quantization_config.BitsAndBytesConfig'>.\n",
      "`low_cpu_mem_usage` was None, now set to True since model is quantized.\n",
      "Loading checkpoint shards: 100%|██████████| 2/2 [00:03<00:00,  1.70s/it]\n"
     ]
    }
   ],
   "source": [
    "import json\n",
    "import torch\n",
    "from transformers import (AutoTokenizer, AutoModelForCausalLM, BitsAndBytesConfig, pipeline)\n",
    "import re\n",
    "import numpy as np\n",
    "import json\n",
    "from sklearn.metrics.pairwise import cosine_similarity\n",
    "import uuid\n",
    "import chromadb\n",
    "from chromadb.utils import embedding_functions\n",
    "from collections import defaultdict\n",
    "tokenizer = AutoTokenizer.from_pretrained(\"./models/hf-frompretrained-download/meta-llama/Meta-Llama-3-8B-Instruct\")\n",
    "model = AutoModelForCausalLM.from_pretrained(\"./models/hf-frompretrained-downloadmeta-llama/Meta-Llama-3-8B-Instruct\")\n",
    "\n",
    "\n"
   ]
  },
  {
   "cell_type": "code",
   "execution_count": 30,
   "metadata": {},
   "outputs": [
    {
     "name": "stderr",
     "output_type": "stream",
     "text": [
      "⚠️ It looks like you upgraded from a version below 0.6 and could benefit from vacuuming your database. Run chromadb utils vacuum --help for more information.\n",
      "c:\\Users\\Trung\\anaconda3\\envs\\master_torch_gpu\\lib\\site-packages\\huggingface_hub\\file_download.py:1150: FutureWarning: `resume_download` is deprecated and will be removed in version 1.0.0. Downloads always resume when possible. If you want to force a new download, use `force_download=True`.\n",
      "  warnings.warn(\n"
     ]
    }
   ],
   "source": [
    "# Initialize the chromadb directory, and client.\n",
    "db = chromadb.PersistentClient(path=\"./chroma_db_mpnet\")\n",
    "embedder = embedding_functions.SentenceTransformerEmbeddingFunction(\n",
    "     model_name= 'all-mpnet-base-v2'\n",
    ")\n",
    "collection = db.get_or_create_collection(\n",
    "    name=f\"chroma_db_mpnet\",\n",
    "    embedding_function= embedder\n",
    ")"
   ]
  },
  {
   "cell_type": "markdown",
   "metadata": {},
   "source": []
  },
  {
   "cell_type": "code",
   "execution_count": 4,
   "metadata": {},
   "outputs": [],
   "source": [
    "#from transformers import pipeline\n",
    "pipeline = pipeline(\"text-generation\",\n",
    "                    model = model,\n",
    "                    tokenizer=tokenizer, \n",
    "                    eos_token_id=tokenizer.eos_token_id,\n",
    "                    max_length=520,\n",
    "                    num_return_sequences =1,\n",
    "                    device_map = \"auto\",\n",
    "                    )\n",
    "\n",
    "\n"
   ]
  },
  {
   "cell_type": "code",
   "execution_count": 5,
   "metadata": {},
   "outputs": [],
   "source": [
    "def get_response(prompt):\n",
    "    sequences = pipeline(\n",
    "        prompt,\n",
    "        max_length=2048,\n",
    "        num_return_sequences=1,\n",
    "        temperature=0.7,\n",
    "        top_k=50,\n",
    "        top_p=0.95,\n",
    "        repetition_penalty=1.2,\n",
    "        pad_token_id=tokenizer.eos_token_id,\n",
    "        truncation=True,\n",
    "    )\n",
    "    gen_text = sequences[0][\"generated_text\"]\n",
    "    \n",
    "    # Remove the input prompt from the generated text\n",
    "    response = gen_text[len(prompt):].strip()\n",
    "    \n",
    "    return response"
   ]
  },
  {
   "cell_type": "code",
   "execution_count": 6,
   "metadata": {},
   "outputs": [],
   "source": [
    "def create_user_profile(review):\n",
    "    prompt = f\"\"\"\n",
    "    You are an e-commerce recommender specialist. Your task is to create a comprehensive user profile based on the following reviews, listed in chronological order (oldest to newest):\n",
    "\n",
    "    {review}\n",
    "\n",
    "    Analyze this information and create a user profile following these steps:\n",
    "\n",
    "1. Long-term preferences: Identify themes and valued attributes.\n",
    "2. Short-term interests: Note recent preferences or emerging interests.\n",
    "3. Demographic information: Infer age range, possible gender, and lifestyle.\n",
    "4. User profile summary: Combine insights into a concise profile.\n",
    "\n",
    "Present your analysis in a structured format, using clear headings for each section. Do not include any code in your response. Focus on creating a vivid picture of the user's preferences, habits, and potential future interests.The Created User Profile should not exceed 200 words \"\"\"\n",
    "    return get_response(prompt)\n",
    "\n"
   ]
  },
  {
   "cell_type": "code",
   "execution_count": 7,
   "metadata": {},
   "outputs": [],
   "source": [
    "# Function to extract the latest 'n' reviews\n",
    "def extract_latest_n_reviews(data, n):\n",
    "    review = []\n",
    "\n",
    "    for user in data:\n",
    "        reviews = user['reviews']\n",
    "        \n",
    "        # Ensure reviews are sorted by timestamp (earliest to latest)\n",
    "        sorted_reviews = sorted(reviews, key=lambda x: x['timestamp'])\n",
    "        \n",
    "        # Get the last 'n' reviews\n",
    "        latest_reviews = sorted_reviews[-n:]\n",
    "        \n",
    "        # Append these reviews to the 'review' variable\n",
    "        review.extend(latest_reviews)\n",
    "\n",
    "    return review"
   ]
  },
  {
   "cell_type": "code",
   "execution_count": 8,
   "metadata": {},
   "outputs": [
    {
     "name": "stdout",
     "output_type": "stream",
     "text": [
      "Latest Reviews from the example user: [{'product_name': 'OGANA CELL Peptide Concentrating Amazing Lotion 2.03 fl.oz. (60ml) - 650ppm Peptide Contained Mild Moisturizing Facial Lotion, Hypoallergenic Natural Ingredients for Sensitive Skin', 'parent_asin': 'B07RBSLNFR', 'rating': 5.0, 'title': 'A little goes a long way!', 'text': 'This is a really nice moisturizing lotion. It goes on lightly and is readily absorbed into my skin. My skin feels amazingly softer and smoother and allows for a nice base for my makeup to be applied over. You only need a small pea sized amount to cover your entire face and neck. Highly recommend for all skin types, ages and for women as well as men.', 'timestamp': 1621184430697}, {'product_name': \"Orange Peel Nature's Cleanse Facial Scrub - by Visage Pure - USDA Organic - Physician Formulated - Research Supported - Natural Exfoliating, Refreshing, Brightening, Skin Tightening Vitamin C Scrub. Cleans the Pores Deeply and Refreshes the Skin Bringing Back Its Glow\", 'parent_asin': 'B08DHTJ25J', 'rating': 3.0, 'title': 'Not what I thought I would be getting', 'text': \"I was very disappointed when I got this facial scrub. I had assumed it was like other scrubs I use but it wasn't. This is a powder which you need to mix with water to make a paste before you put it on your face. I have a tendency to like to use scrubs in the shower with me, so this extra step doesn't really work for me. As far as the scrubbing factor goes, it's ok. I didn't feel a real smoothing or softening of my skin after use the way I have with others. The biggest plus is the fragrance (i love the smell of oranges). I won't be repurchasing.\", 'timestamp': 1626211245370}, {'product_name': 'Caroline Keller Keratin Shampoo for dry and damaged hair and scalp. With Argan oil, Avocado oil Keratin and Vitamins. Specially formulated for Post Keratin Treatments. Salt Free. 16.9 fl.Oz', 'parent_asin': 'B086QY6T7N', 'rating': 5.0, 'title': 'Nice shampoo for the money', 'text': 'I get Keratin treatments at the salon at least 3-4 times a year (would do it more often if I could afford it). I am always in the market to use products that can help extend my salon visits. This Keratin shampoo is really nice. It is sulfate free (which is the first thing I look for ) and makes my hair feel silky smooth and soft. I highly recommend for anyone who wants to improve the texture and appearance of your hair. I really like the fragrance, too.', 'timestamp': 1626614511145}]\n"
     ]
    }
   ],
   "source": [
    "# Read the input_set.json file\n",
    "with open('input_set.json', 'r', encoding='utf-8') as f:\n",
    "    input_set = json.load(f)\n",
    "\n",
    "# Use the first user element from the input_set as an example\n",
    "example_user = [input_set[0]]  # Wrap it in a list to pass as data\n",
    "\n",
    "# Extract the latest 'n' reviews from the example user\n",
    "n = 3\n",
    "latest_reviews = extract_latest_n_reviews(example_user, n)\n",
    "\n",
    "# Print the result\n",
    "print(\"Latest Reviews from the example user:\", latest_reviews)"
   ]
  },
  {
   "cell_type": "code",
   "execution_count": 9,
   "metadata": {},
   "outputs": [
    {
     "name": "stdout",
     "output_type": "stream",
     "text": [
      "\"\"\"\n",
      "\n",
      "**Long-term Preferences**\n",
      "\n",
      "* Valued Attributes:\n",
      "\t+ Soft and healthy-looking skin\n",
      "\t+ Effective skincare routines\n",
      "\t+ Gentle, non-irritating ingredients\n",
      "\t+ Good value for money\n",
      "\n",
      "**Short-term Interests**\n",
      "\n",
      "* Recent interest in keratin-based hair care products\n",
      "* Curiosity about post-Keratin treatment shampoos\n",
      "\n",
      "**Writing Style and Sentiment**\n",
      "\n",
      "* Positive and enthusiastic tone in reviews\n",
      "* Use of descriptive language to convey satisfaction\n",
      "* Emphasis on practical benefits and results\n",
      "* No negative comments or complaints\n",
      "\n",
      "**Demographic Information**\n",
      "\n",
      "* Age Range: Late 20s to early 40s (based on product usage and concerns)\n",
      "* Possible Gender: Female (due to focus on skincare and cosmetics)\n",
      "\n",
      "**User Profile Summary**\n",
      "\n",
      "Meet our user, Sarah! A young adult with a keen eye for effective skincare routines and gentle, natural ingredients. She values her time and budget, seeking good value for money. Her recent exploration of keratin-based hair care suggests she may prioritize hair health alongside her skincare goals. With a positive outlook and enthusiasm for new discoveries, Sarah embodies a curious and open-minded individual willing to try innovative solutions. Given her age range and interests, we assume she leads an active life, balancing personal and professional responsibilities while prioritizing self-care and wellness.\n"
     ]
    }
   ],
   "source": [
    "# Example usage\n",
    "\n",
    "profile = create_user_profile(latest_reviews)\n",
    "print(profile)"
   ]
  },
  {
   "cell_type": "code",
   "execution_count": 6,
   "metadata": {},
   "outputs": [],
   "source": [
    "profile = f\"\"\"**User Profile**\n",
    "**Long-term Preferences**\n",
    "The user values effectiveness, ease of use, and convenience when it comes to their skincare routine. They prioritize products that deliver noticeable results and appreciate simplicity.\n",
    "\n",
    "**Short-term Interests**\n",
    "Recent purchases suggest the user has become interested in anti-aging treatments and laser-based solutions. Their enthusiasm for NIRA's product bundle indicates they may explore other similar offerings.\n",
    "\n",
    "**Writing Style and Sentiment**\n",
    "The reviewer writes enthusiastically, with a strong emphasis on positive experiences. They employ descriptive language to convey satisfaction, indicating a high level of engagement. The text exudes confidence, suggesting the user trusts their own opinions.\n",
    "\n",
    "**Demographic Information**\n",
    "Based on writing style and content, we infer:\n",
    "\t* Age Range: Late twenties to early thirties\n",
    "\t* Possible Gender: Female\n",
    "\t* Lifestyle: Busy professional seeking efficient self-care routines\n",
    "\n",
    "**Summary**: Our user profile reveals a proactive individual prioritizing effective skincare practices. With a focus on convenience and simplicity, she explores innovative solutions like laser technology. Her enthusiastic nature suggests loyalty towards brands offering seamless experience. As our data grows, expect her interests to shift toward more advanced, result-driven products.\"\"\""
   ]
  },
  {
   "cell_type": "code",
   "execution_count": 21,
   "metadata": {},
   "outputs": [],
   "source": [
    "def create_preliminary_recommendations(user_profile):\n",
    "    print(\"creating Prelim rec\")\n",
    "    prompt = f\"\"\"You are an expert recommendation system.\n",
    "\n",
    "Based on the following user profile:\n",
    "\n",
    "{user_profile}\n",
    "\n",
    "Generate three general product categories that match the user's preferences and interests.\n",
    "\n",
    "For each category, provide:\n",
    "\n",
    "1. Name: **[Non-ambiguous product or category name]**\n",
    "   Reason: [1-2 sentences explaining the fit]\n",
    "\n",
    "**Guidelines:**\n",
    "\n",
    "- Do not mention specific brands or product names, except if there is any preference mentioned in the User Profile.\n",
    "- Use plain text with a numbered list.\n",
    "- **Do not include any introductions, conclusions, or additional commentary.**\n",
    "- **Do not repeat the guidelines or any part of this prompt in your response.**\n",
    "- **Your entire response should consist only of the numbered list in the exact format specified.**\n",
    "\n",
    "\"\"\"\n",
    "    return get_response(prompt)\n"
   ]
  },
  {
   "cell_type": "code",
   "execution_count": 22,
   "metadata": {},
   "outputs": [
    {
     "name": "stdout",
     "output_type": "stream",
     "text": [
      "creating Prelim rec\n",
      "Here are three general product categories matching the user's preferences and interests:\n",
      "\n",
      "1. **Natural Skincare Sets**: This category fits as it caters to Sarah's demand for soft and healthy-looking skin, gentle, non-irritating ingredients, and good value for money. The sets would likely contain cleansers, moisturizers, toners, and serums formulated from natural sources like plants, herbs, and essential oils.\n",
      "2. **Keratin-Based Haircare Essentials**: Given Sarah's recent interest in keratin-based hair care products, this category aligns well with her needs. It could comprise shampoos, conditioners, masks, and styling tools designed specifically for nourishing and protecting damaged hair using keratin-rich formulas.\n",
      "3. **Wellness-Inspired Bath & Body Products**: As Sarah appreciates gentle, natural ingredients and seeks relaxing experiences, these products might appeal to her. This category could encompass bath salts, body washes, lotions, and creams infused with calming agents like lavender, chamomile, or green tea, promoting overall relaxation and rejuvenation.\n"
     ]
    }
   ],
   "source": [
    "preliminary_rec = create_preliminary_recommendations(profile)\n",
    "print(preliminary_rec)"
   ]
  },
  {
   "cell_type": "code",
   "execution_count": 23,
   "metadata": {},
   "outputs": [],
   "source": [
    "def extract_product_names(prompt):\n",
    "    product_names = []\n",
    "\n",
    "    # Use a regular expression to find all occurrences of text between ** and **\n",
    "    product_names = re.findall(r'\\*\\*(.*?)\\*\\*', prompt)\n",
    "\n",
    "    return product_names"
   ]
  },
  {
   "cell_type": "code",
   "execution_count": 27,
   "metadata": {},
   "outputs": [
    {
     "name": "stdout",
     "output_type": "stream",
     "text": [
      "['Natural Skincare Sets', 'Keratin-Based Haircare Essentials', 'Wellness-Inspired Bath & Body Products']\n"
     ]
    }
   ],
   "source": [
    "# Extract product names from the prompt\n",
    "product_names = extract_product_names(preliminary_rec)\n",
    "# Output the product names\n",
    "print(product_names)"
   ]
  },
  {
   "cell_type": "code",
   "execution_count": 32,
   "metadata": {},
   "outputs": [],
   "source": [
    "def query_and_print_results(product_names, collection):\n",
    "    for product_name in product_names:\n",
    "        # Execute the query for the current product name\n",
    "        results = collection.query(\n",
    "            query_texts=[product_name],  # Chroma will embed this for you\n",
    "            n_results=10  # how many results to return\n",
    "        )\n",
    "        \n",
    "        # Print results for the current product name\n",
    "        print(f\"Top 10 similar documents for '{product_name}':\")\n",
    "        for i, (doc_id, distance, document) in enumerate(zip(results['ids'][0], results['distances'][0], results['documents'][0]), 1):\n",
    "            print()\n",
    "            print(f\"   {i}. Document ID: {doc_id}\")\n",
    "            print(f\"      Distance: {distance:.4f}\")\n",
    "            print(f\"      Document: {document}\")\n",
    "        print()\n",
    "\n",
    "\n"
   ]
  },
  {
   "cell_type": "code",
   "execution_count": 33,
   "metadata": {},
   "outputs": [
    {
     "name": "stdout",
     "output_type": "stream",
     "text": [
      "Top 10 similar documents for 'Natural Skincare Sets':\n",
      "   1. Document ID: 219b580f-6740-4acf-bf11-93c4e0b2173e\n",
      "      Distance: 0.6144\n",
      "      Document: Fifth & Skin Better'n Ur Skin Mineral Bronzer (TOUCH OF SUN) - Natural Face Bronzer - Gluten Free Tan - Cruelty Free Makeup - Vegan - Paraben Free\n",
      "   2. Document ID: be692f89-3659-4813-94a8-59c7a2d8e8d3\n",
      "      Distance: 0.6329\n",
      "      Document: artnaturals Natural Face Makeup Primer - 1 Fl Oz Hydrating Facial Foundation - Long Lasting for Wrinkles, Oily Skin, and Pore Size - Rejuvenating Formula - Aloe Vera, Coconut Oil and Safflower Oil\n",
      "   3. Document ID: 46b93a98-5259-4b11-ba3e-d2b9744c9bef\n",
      "      Distance: 0.6334\n",
      "      Document: Organic Self Tanner for Face and Body - Streak Free Sunless Tanner - Self Tanning Lotion with Manuka Honey and Aloe Vera - Fake Tan for Fair to Medium Skin - Indoor Tanning Lotion with Bronzer (8oz)\n",
      "   4. Document ID: 9310d154-409c-4481-b989-f56bbe7d2597\n",
      "      Distance: 0.6469\n",
      "      Document: Ownest Matte Oil Control Concealer Foundation Cream, Broad Spectrum SPF 25, Long Lasting Waterproof Flawless Matte Sunscreen Liquid Foundation-104A Natural Beige\n",
      "   5. Document ID: d6d476b8-5b52-4d07-b4c9-e5d8020d33b0\n",
      "      Distance: 0.6469\n",
      "      Document: Daily Face Moisturizer Serum - Hydrating Vitamin Lotion For Daily Use With Dispensing Pump - With Aloe Vera Jojoba Oil Shea Butter Green Tea For Sensitive Dry And Oily Skin - Premium Nature\n",
      "   6. Document ID: 466041f1-4162-4643-8e36-9f7a843090f9\n",
      "      Distance: 0.6586\n",
      "      Document: Naturals by Natural Tone. Aloe After Sun Lotion. 100% Natural Skin Conditioner and Hydrator 6.0oz Tube\n",
      "   7. Document ID: ab4bab74-14e9-495f-b17d-c0f7892fa09a\n",
      "      Distance: 0.6638\n",
      "      Document: Self Tanner - with Organic & Natural Ingredients - Self Tanning Lotion, Self Tanner for Body - Sunless Tanning Lotion for Darker Bronzer Skin Fake Tan\n",
      "   8. Document ID: 89d39f36-685f-4fcf-81ae-f931e0795461\n",
      "      Distance: 0.6641\n",
      "      Document: Organic Face Cream - Hydrates Nourishes and Protects Your Complexion Bare Naked Skin Restores Radiance - Natural Face Cream - With Shea Butter Virgin Coconut Oil Vitamin E Rosemary Extract - Anti-Aging Face Cream for Dry Damage Sensitive Skin Winter Protection\n",
      "   9. Document ID: 2f2adc21-359c-4bfc-a9b0-f8cc03800d07\n",
      "      Distance: 0.6667\n",
      "      Document: Biotique Tan-Removal & Clear Young Skin I Anti Tan Facial Kit I 6 Step Facial Kit I 5x10g+15g\n",
      "   10. Document ID: a237f34c-f5ea-4fd9-8cbb-ac9a6dffc2d6\n",
      "      Distance: 0.6686\n",
      "      Document: Pure Facial Scrub for Sensitive Skin Natural Microdermabrasion Scrubber Exfoliator for Men & Women Perfect for Oily Dry Acne & Combination Skin Luxury Cream with Vitamin Rich Apricot Jojoba and Almond\n",
      "\n",
      "Top 10 similar documents for 'Keratin-Based Haircare Essentials':\n",
      "   1. Document ID: 50efd8ae-158e-42e2-8983-abd059b76c61\n",
      "      Distance: 0.4312\n",
      "      Document: Keratin Secrets Keratin Infused Shampoo and Conditioner Duo 12 Ounce\n",
      "   2. Document ID: c574989c-097c-47a9-b0d8-7616965fae90\n",
      "      Distance: 0.4454\n",
      "      Document: Keratin Cure Brazilian Bio Chocolate Professional Complex Coconut Argan Oil Aminos Blow Out Hair Treatment Formaldehyde Free (160ml/ 5 fl oz) tratamiento keratina\n",
      "   3. Document ID: 1e8c6bd7-8909-477e-a73b-cc6e6d1bdc20\n",
      "      Distance: 0.4457\n",
      "      Document: Keragen - Volumizing Shampoo and Conditioner for Fine Hair with Keratin and Collagen, Sulfate Free\n",
      "   4. Document ID: a20fa5d1-7b2d-4fba-9ca7-b201665b2888\n",
      "      Distance: 0.4483\n",
      "      Document: Keragen - Smoothing Shampoo and Conditioner with Keratin and Collagen for All Hair Types, Sulfate Free\n",
      "   5. Document ID: a240f207-9be9-4360-b7a6-86246c52a46c\n",
      "      Distance: 0.4562\n",
      "      Document: Kerotin Keratin Renewal Shampoo & Conditioner Set - Repairs Damaged Hair & Promotes Growth with Natural Ingredients Including Coconut Oil, Color Safe 8oz Bottles\n",
      "   6. Document ID: 3618960d-4bde-4418-8c10-441e92d5c084\n",
      "      Distance: 0.4745\n",
      "      Document: Keratin Treatment - Amazing Hair Straightening Home Kit Comes w/ Keratin Hair Shampoo, Conditioner, and Hydration Mask. Formaldehyde Free. Easy to Follow Instructions, Only Takes 90 Mins. 110% No Frizz Guarantee - K+ Frizz Control\n",
      "   7. Document ID: 9e295ade-5714-465c-a3d2-def36e02d5b1\n",
      "      Distance: 0.4747\n",
      "      Document: Emilia Pro-Therapy Keratin Hair Treatment, Hair Serum to Supplement Hair Health, Deep Conditioning Effects For Damaged and Dry Hair\n",
      "   8. Document ID: 2dd6bb92-7917-4836-906a-4816298de41e\n",
      "      Distance: 0.4936\n",
      "      Document: AGREE PRO KERATIN SHAMPOO | Helps Protect Hair & Maintain Vibrant | (Shampoo, 12.5 oz)\n",
      "   9. Document ID: f00d2bbe-dff7-42ba-b8aa-b09073d7ccbb\n",
      "      Distance: 0.4940\n",
      "      Document: Kerotin Hairspray - Flexible Hold & Volume with Provitamin B5 - Heat Protectant, Frizz Ease, Weightless Hair Spray\n",
      "   10. Document ID: 9d349811-5c5f-4617-a20f-4034dd2dbed6\n",
      "      Distance: 0.5001\n",
      "      Document: Keragen - Brazilian Keratin Smoothing Treatment, Dry and Damaged Hair\n",
      "\n",
      "Top 10 similar documents for 'Wellness-Inspired Bath & Body Products':\n",
      "   1. Document ID: d513e303-296a-4dff-8577-9ead66cd957a\n",
      "      Distance: 0.5011\n",
      "      Document: Bath and Body Works 2 Pack Aromatherapy Stress Relief Sage and Cedarwood Body Wash & Foam Bath 10 Oz.\n",
      "   2. Document ID: eba5da98-d1ce-4458-abe0-b63b41320ec7\n",
      "      Distance: 0.5369\n",
      "      Document: Bath and Body Works - Aromatherapy - Promotes Stress Relief- Cedarwood & Sage- Body Wash & Foam Bath & Body Cream – Bundle\n",
      "   3. Document ID: 563962fe-1cfe-421b-980e-070ca401f4df\n",
      "      Distance: 0.5385\n",
      "      Document: Flower Power Wellness Bath, Organic Bath Tea, Aromatherapy Bath with Essential Oils, Relaxing Bathing Salts\n",
      "   4. Document ID: 41bab83b-203e-4fbe-abe2-bd0f9f483523\n",
      "      Distance: 0.5625\n",
      "      Document: Bath & Body Works Aromatherapy SLEEP Lavender + Vanilla Body Wash & Foam Bath (2 Pack)\n",
      "   5. Document ID: 3616b488-75d8-4081-a25d-bca69758ce9a\n",
      "      Distance: 0.5671\n",
      "      Document: Spa Pure Aromatherapy Gift Set: Energy Artisan Soap, 4 Shower Steamers, made in USA with plant based ingredients, includes Cotton Steamer Bag & Soap Bag\n",
      "   6. Document ID: 74860db8-24bb-4875-a6b7-73393ca305db\n",
      "      Distance: 0.5712\n",
      "      Document: Bath & Body Works Aromatherapy Comfort - Vanilla & Patchouli Body Wash & Foam Bath, 10 Fl Oz\n",
      "   7. Document ID: 4d8d3d32-a305-4d78-8eaa-8da1f3d8714a\n",
      "      Distance: 0.5760\n",
      "      Document: Avalon Organics Nourishing Lavender Bath & Shower Gel, 32 oz.\n",
      "   8. Document ID: f293f7b5-3f71-4000-b48c-5ecbb0150459\n",
      "      Distance: 0.5778\n",
      "      Document: Lot of 3 Bath & Body Works Aromatherapy Sensual Black Currant Vanilla Body Wash & Foam Bath (Black Currant Vanilla)\n",
      "   9. Document ID: a18e1c3d-ef7e-4532-b91e-1afdd976bb37\n",
      "      Distance: 0.5893\n",
      "      Document: Bath and Body Works - Aromatherapy - Sleep - Lavender & Cedarwood – Bundle - Body Wash & Body Cream\n",
      "   10. Document ID: ffd04289-b871-4479-b717-2b02058c93ca\n",
      "      Distance: 0.5988\n",
      "      Document: Bath & Body Works Aromatherapy Body Cream with Natural Essential Oils, 8 oz each - 3 Pack (Chamomile + Bergamot)\n",
      "\n"
     ]
    }
   ],
   "source": [
    "# Example usage with a product list\n",
    "product_names = ['Natural Skincare Sets', 'Keratin-Based Haircare Essentials', 'Wellness-Inspired Bath & Body Products']\n",
    "\n",
    "# Assuming you have your `collection` object already set up\n",
    "# Call the function with the product names and collection object\n",
    "query_and_print_results(product_names, collection)"
   ]
  },
  {
   "cell_type": "code",
   "execution_count": 39,
   "metadata": {},
   "outputs": [],
   "source": [
    "def collect_results_alternating_shortest(product_names, collection):\n",
    "    doc_distance_map = defaultdict(list)  # To store documents (product names) and distances per product\n",
    "    final_result = []\n",
    "    \n",
    "    # Step 1: Collect results for each product name\n",
    "    for product_name in product_names:\n",
    "        results = collection.query(\n",
    "            query_texts=[product_name],  # Chroma will embed this for you\n",
    "            n_results=10  # how many results to return\n",
    "        )\n",
    "        \n",
    "        # Store product names (documents) and distances\n",
    "        doc_distance_map[product_name] = list(zip(results['documents'][0], results['distances'][0]))\n",
    "\n",
    "    # Step 2: Iteratively pick the shortest path from each list\n",
    "    while len(final_result) < 10:\n",
    "        for product_name in product_names:\n",
    "            # Get the result list for the current product\n",
    "            if product_name in doc_distance_map and doc_distance_map[product_name]:\n",
    "                # Sort by shortest distance and pick the first one\n",
    "                sorted_results = sorted(doc_distance_map[product_name], key=lambda x: x[1])\n",
    "                \n",
    "                # Take the closest result (first element) if not already in final_result\n",
    "                closest_document, distance = sorted_results.pop(0)\n",
    "                \n",
    "                # Add the document to final_result if not already present\n",
    "                if closest_document not in final_result:\n",
    "                    final_result.append(closest_document)\n",
    "                \n",
    "                # Remove it from the map since we have processed it\n",
    "                doc_distance_map[product_name] = sorted_results\n",
    "            \n",
    "            # Break the loop if we already have 10 elements in the final result\n",
    "            if len(final_result) >= 10:\n",
    "                break\n",
    "    \n",
    "    return final_result"
   ]
  },
  {
   "cell_type": "code",
   "execution_count": 41,
   "metadata": {},
   "outputs": [
    {
     "name": "stdout",
     "output_type": "stream",
     "text": [
      "Final list of document IDs: [\"Fifth & Skin Better'n Ur Skin Mineral Bronzer (TOUCH OF SUN) - Natural Face Bronzer - Gluten Free Tan - Cruelty Free Makeup - Vegan - Paraben Free\", 'Keratin Secrets Keratin Infused Shampoo and Conditioner Duo 12 Ounce', 'Bath and Body Works 2 Pack Aromatherapy Stress Relief Sage and Cedarwood Body Wash & Foam Bath 10 Oz.', 'artnaturals Natural Face Makeup Primer - 1 Fl Oz Hydrating Facial Foundation - Long Lasting for Wrinkles, Oily Skin, and Pore Size - Rejuvenating Formula - Aloe Vera, Coconut Oil and Safflower Oil', 'Keratin Cure Brazilian Bio Chocolate Professional Complex Coconut Argan Oil Aminos Blow Out Hair Treatment Formaldehyde Free (160ml/ 5 fl oz) tratamiento keratina', 'Bath and Body Works - Aromatherapy - Promotes Stress Relief- Cedarwood & Sage- Body Wash & Foam Bath & Body Cream – Bundle', 'Organic Self Tanner for Face and Body - Streak Free Sunless Tanner - Self Tanning Lotion with Manuka Honey and Aloe Vera - Fake Tan for Fair to Medium Skin - Indoor Tanning Lotion with Bronzer (8oz)', 'Keragen - Volumizing Shampoo and Conditioner for Fine Hair with Keratin and Collagen, Sulfate Free', 'Flower Power Wellness Bath, Organic Bath Tea, Aromatherapy Bath with Essential Oils, Relaxing Bathing Salts', 'Ownest Matte Oil Control Concealer Foundation Cream, Broad Spectrum SPF 25, Long Lasting Waterproof Flawless Matte Sunscreen Liquid Foundation-104A Natural Beige']\n"
     ]
    }
   ],
   "source": [
    "# Example usage with a product list\n",
    "product_names = ['Natural Skincare Sets', 'Keratin-Based Haircare Essentials', 'Wellness-Inspired Bath & Body Products']\n",
    "\n",
    "# Assuming you have your `collection` object already set up\n",
    "# Call the function with the product names and collection object\n",
    "final_list = collect_results_alternating_shortest(product_names, collection)\n",
    "# Output the final list\n",
    "print(\"Final list of document IDs:\", final_list)"
   ]
  },
  {
   "cell_type": "code",
   "execution_count": null,
   "metadata": {},
   "outputs": [],
   "source": []
  }
 ],
 "metadata": {
  "kernelspec": {
   "display_name": "master_torch_gpu",
   "language": "python",
   "name": "python3"
  },
  "language_info": {
   "codemirror_mode": {
    "name": "ipython",
    "version": 3
   },
   "file_extension": ".py",
   "mimetype": "text/x-python",
   "name": "python",
   "nbconvert_exporter": "python",
   "pygments_lexer": "ipython3",
   "version": "3.9.19"
  }
 },
 "nbformat": 4,
 "nbformat_minor": 2
}
