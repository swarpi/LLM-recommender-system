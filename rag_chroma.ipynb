{
 "cells": [
  {
   "cell_type": "code",
   "execution_count": 3,
   "metadata": {},
   "outputs": [],
   "source": [
    "import numpy as np\n",
    "import json\n",
    "from sklearn.metrics.pairwise import cosine_similarity\n",
    "import uuid"
   ]
  },
  {
   "cell_type": "code",
   "execution_count": 6,
   "metadata": {},
   "outputs": [
    {
     "name": "stderr",
     "output_type": "stream",
     "text": [
      "c:\\Users\\Trung\\anaconda3\\envs\\master_torch_gpu\\lib\\site-packages\\huggingface_hub\\file_download.py:1150: FutureWarning: `resume_download` is deprecated and will be removed in version 1.0.0. Downloads always resume when possible. If you want to force a new download, use `force_download=True`.\n",
      "  warnings.warn(\n"
     ]
    }
   ],
   "source": [
    "import json\n",
    "import chromadb\n",
    "import transformers\n",
    "from chromadb.utils import embedding_functions\n",
    "# Initialize the chromadb directory, and client.\n",
    "db = chromadb.PersistentClient(path=\"./chroma_db_mpnet\")\n",
    "embedder = embedding_functions.SentenceTransformerEmbeddingFunction(\n",
    "     model_name= 'all-mpnet-base-v2'\n",
    ")\n",
    "collection = db.get_or_create_collection(\n",
    "    name=f\"chroma_db_mpnet\",\n",
    "    embedding_function= embedder\n",
    ")"
   ]
  },
  {
   "cell_type": "code",
   "execution_count": 4,
   "metadata": {},
   "outputs": [],
   "source": [
    "client = pymongo.MongoClient(\"mongodb://localhost:27017\")\n",
    "db = client.embeddings_db\n",
    "collection = db.corpus_embeddings"
   ]
  },
  {
   "cell_type": "code",
   "execution_count": 11,
   "metadata": {},
   "outputs": [
    {
     "name": "stdout",
     "output_type": "stream",
     "text": [
      "Added batch of 10000 documents. Total added: 10000\n",
      "Added batch of 9989 documents. Total added: 19989\n",
      "Added batch of 10000 documents. Total added: 29989\n",
      "Added batch of 9999 documents. Total added: 39988\n",
      "Added batch of 10000 documents. Total added: 49988\n",
      "Added batch of 10000 documents. Total added: 59988\n",
      "Added batch of 10000 documents. Total added: 69988\n",
      "Added batch of 10000 documents. Total added: 79988\n",
      "Added batch of 10000 documents. Total added: 89988\n",
      "Added batch of 10000 documents. Total added: 99988\n",
      "Added batch of 10000 documents. Total added: 109988\n",
      "Added batch of 2591 documents. Total added: 112579\n",
      "Total documents added to ChromaDB: 112579\n"
     ]
    }
   ],
   "source": [
    "def add_documents_in_batches(collection, corpus, embeddings, batch_size=10000):\n",
    "    total_added = 0\n",
    "    for i in range(0, len(corpus), batch_size):\n",
    "        batch_ids = []\n",
    "        batch_texts = []\n",
    "        batch_embeddings = []\n",
    "\n",
    "        for item, embedding in zip(corpus[i:i+batch_size], embeddings[i:i+batch_size]):\n",
    "            if item[0].strip():  # Check if the text content is not empty\n",
    "                batch_ids.append(str(uuid.uuid4()))\n",
    "                batch_texts.append(item[0])\n",
    "                batch_embeddings.append(embedding.tolist())\n",
    "\n",
    "        if batch_ids:  # Only add if there are valid documents in the batch\n",
    "            collection.add(\n",
    "                ids=batch_ids,\n",
    "                documents=batch_texts,\n",
    "                embeddings=batch_embeddings\n",
    "            )\n",
    "            total_added += len(batch_ids)\n",
    "            print(f\"Added batch of {len(batch_ids)} documents. Total added: {total_added}\")\n",
    "\n",
    "    return total_added\n",
    "\n",
    "# Add documents in batches\n",
    "total_documents_added = add_documents_in_batches(collection, retrieved_corpus, retrieved_embeddings)\n",
    "\n",
    "print(f\"Total documents added to ChromaDB: {total_documents_added}\")"
   ]
  },
  {
   "cell_type": "code",
   "execution_count": 8,
   "metadata": {},
   "outputs": [
    {
     "name": "stdout",
     "output_type": "stream",
     "text": [
      "{'ids': [['3db703ca-031a-4cd4-9951-04be1b5cdf1f', '20d763b1-3f43-4237-a9c3-1986391c51cc', '2c194800-5291-45e5-bdb5-e634a7684d91', 'bfd16922-e518-4e72-be19-a348afb6d99e', '6e648497-bff2-4884-b026-e82243bfbe54', '33668e6c-4b77-4b4d-87dc-bd6e5f9378cb', '07436e67-c471-4ed1-91ef-4976d69d1093', '24499196-d7b5-432a-a755-44c27fb42fc7', '44850c45-af01-435b-9d0d-3c0fcc26b8ec', 'd80de646-9b9a-4095-aab5-b9f6cb0668fa']], 'distances': [[0.6799821853637695, 0.7166837453842163, 0.7207689881324768, 0.7686786651611328, 0.7722411155700684, 0.7796213030815125, 0.7815015912055969, 0.7827130556106567, 0.7850625514984131, 0.7893216609954834]], 'metadatas': [[None, None, None, None, None, None, None, None, None, None]], 'embeddings': None, 'documents': [['KINGDOMCARES Hot Mist Facial Steamer Warm Nano Ionic Moisturizing Face Humidifier Personal Home Sauna SPA Unclogs Pores Blackheads Acne Comedone Removal Facial Hydration System Nano Sprayer Pink', 'Anti-Aging Armour Super Smart Skin-Perfecting Beauty Fluid SPF 50+ 1 oz', 'Avon Skin so Soft Skindisiac Redsilky Body Lotion', '24.7 Skin Care Anti Aging Skin Care Primer', 'Avon Skin So Soft Radiant Moisture Gelled Body Oil', 'Serious Skincare Pretty Fast - Diffuse Perfecting Serum', 'TWOBEAUTYBABES Silicone Reusable Anti-aging, Hydrating, Wrinkle-smoothing Face Mask', 'Timeless 3-Step Acne System - Skincare Kit, Organic Skin Care Set, Anti Aging Kit Women, a Toner, Moisturizer and Acne Face Wash, Firming Face Cream, Aloe Vera, Natural Skin Clearing for Stubborn Acne', 'Innisfree Red Beet Bright Toning Cleanser 100ml New Super Food Skin Care Line/Transparent skin and Moisture Care', 'Salicylic Acid Ice Cream Mask Acne Moisturizing Smear Mask Blackheads Remover Mask Cleansing & Shrinking Pores']], 'uris': None, 'data': None, 'included': ['metadatas', 'documents', 'distances']}\n",
      "Top 10 similar documents:\n",
      "   Distance: 0.6800\n",
      "   Document: KINGDOMCARES Hot Mist Facial Steamer Warm Nano Ionic Moisturizing Face Humidifier Personal Home Sauna SPA Unclogs Pores Blackheads Acne Comedone Removal Facial Hydration System Nano Sprayer Pink\n",
      "\n",
      "   Distance: 0.7167\n",
      "   Document: Anti-Aging Armour Super Smart Skin-Perfecting Beauty Fluid SPF 50+ 1 oz\n",
      "\n",
      "   Distance: 0.7208\n",
      "   Document: Avon Skin so Soft Skindisiac Redsilky Body Lotion\n",
      "\n",
      "   Distance: 0.7687\n",
      "   Document: 24.7 Skin Care Anti Aging Skin Care Primer\n",
      "\n",
      "   Distance: 0.7722\n",
      "   Document: Avon Skin So Soft Radiant Moisture Gelled Body Oil\n",
      "\n",
      "   Distance: 0.7796\n",
      "   Document: Serious Skincare Pretty Fast - Diffuse Perfecting Serum\n",
      "\n",
      "   Distance: 0.7815\n",
      "   Document: TWOBEAUTYBABES Silicone Reusable Anti-aging, Hydrating, Wrinkle-smoothing Face Mask\n",
      "\n",
      "   Distance: 0.7827\n",
      "   Document: Timeless 3-Step Acne System - Skincare Kit, Organic Skin Care Set, Anti Aging Kit Women, a Toner, Moisturizer and Acne Face Wash, Firming Face Cream, Aloe Vera, Natural Skin Clearing for Stubborn Acne\n",
      "\n",
      "   Distance: 0.7851\n",
      "   Document: Innisfree Red Beet Bright Toning Cleanser 100ml New Super Food Skin Care Line/Transparent skin and Moisture Care\n",
      "\n",
      "   Distance: 0.7893\n",
      "   Document: Salicylic Acid Ice Cream Mask Acne Moisturizing Smear Mask Blackheads Remover Mask Cleansing & Shrinking Pores\n",
      "\n"
     ]
    }
   ],
   "source": [
    "results = collection.query(\n",
    "    query_texts=[\"Smart Skincare Solutions\"], # Chroma will embed this for you\n",
    "    n_results=10 # how many results to return\n",
    ")\n",
    "print(results)\n",
    "print(\"Top 10 similar documents:\")\n",
    "for i, (doc_id, distance, document) in enumerate(zip(results['ids'][0], results['distances'][0], results['documents'][0]), 1):\n",
    "    print(f\"   Distance: {distance:.4f}\")\n",
    "    print(f\"   Document: {document}\")\n",
    "    print()"
   ]
  },
  {
   "cell_type": "code",
   "execution_count": null,
   "metadata": {},
   "outputs": [],
   "source": []
  }
 ],
 "metadata": {
  "kernelspec": {
   "display_name": "torch_gpu",
   "language": "python",
   "name": "python3"
  },
  "language_info": {
   "codemirror_mode": {
    "name": "ipython",
    "version": 3
   },
   "file_extension": ".py",
   "mimetype": "text/x-python",
   "name": "python",
   "nbconvert_exporter": "python",
   "pygments_lexer": "ipython3",
   "version": "3.9.19"
  }
 },
 "nbformat": 4,
 "nbformat_minor": 2
}
