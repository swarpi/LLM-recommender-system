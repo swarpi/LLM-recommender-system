{
 "cells": [
  {
   "cell_type": "code",
   "execution_count": 3,
   "metadata": {},
   "outputs": [],
   "source": [
    "import numpy as np\n",
    "import json\n",
    "from sklearn.metrics.pairwise import cosine_similarity\n",
    "import uuid"
   ]
  },
  {
   "cell_type": "code",
   "execution_count": 6,
   "metadata": {},
   "outputs": [
    {
     "name": "stderr",
     "output_type": "stream",
     "text": [
      "c:\\Users\\Trung\\anaconda3\\envs\\master_torch_gpu\\lib\\site-packages\\huggingface_hub\\file_download.py:1150: FutureWarning: `resume_download` is deprecated and will be removed in version 1.0.0. Downloads always resume when possible. If you want to force a new download, use `force_download=True`.\n",
      "  warnings.warn(\n"
     ]
    }
   ],
   "source": [
    "import json\n",
    "import chromadb\n",
    "import transformers\n",
    "from chromadb.utils import embedding_functions\n",
    "# Initialize the chromadb directory, and client.\n",
    "db = chromadb.PersistentClient(path=\"./chroma_db_mpnet\")\n",
    "embedder = embedding_functions.SentenceTransformerEmbeddingFunction(\n",
    "     model_name= 'all-mpnet-base-v2'\n",
    ")\n",
    "collection = db.get_or_create_collection(\n",
    "    name=f\"chroma_db_mpnet\",\n",
    "    embedding_function= embedder\n",
    ")"
   ]
  },
  {
   "cell_type": "code",
   "execution_count": 4,
   "metadata": {},
   "outputs": [],
   "source": [
    "client = pymongo.MongoClient(\"mongodb://localhost:27017\")\n",
    "db = client.embeddings_db\n",
    "collection = db.corpus_embeddings"
   ]
  },
  {
   "cell_type": "code",
   "execution_count": 11,
   "metadata": {},
   "outputs": [
    {
     "name": "stdout",
     "output_type": "stream",
     "text": [
      "Added batch of 10000 documents. Total added: 10000\n",
      "Added batch of 9989 documents. Total added: 19989\n",
      "Added batch of 10000 documents. Total added: 29989\n",
      "Added batch of 9999 documents. Total added: 39988\n",
      "Added batch of 10000 documents. Total added: 49988\n",
      "Added batch of 10000 documents. Total added: 59988\n",
      "Added batch of 10000 documents. Total added: 69988\n",
      "Added batch of 10000 documents. Total added: 79988\n",
      "Added batch of 10000 documents. Total added: 89988\n",
      "Added batch of 10000 documents. Total added: 99988\n",
      "Added batch of 10000 documents. Total added: 109988\n",
      "Added batch of 2591 documents. Total added: 112579\n",
      "Total documents added to ChromaDB: 112579\n"
     ]
    }
   ],
   "source": [
    "def add_documents_in_batches(collection, corpus, embeddings, batch_size=10000):\n",
    "    total_added = 0\n",
    "    for i in range(0, len(corpus), batch_size):\n",
    "        batch_ids = []\n",
    "        batch_texts = []\n",
    "        batch_embeddings = []\n",
    "\n",
    "        for item, embedding in zip(corpus[i:i+batch_size], embeddings[i:i+batch_size]):\n",
    "            if item[0].strip():  # Check if the text content is not empty\n",
    "                batch_ids.append(str(uuid.uuid4()))\n",
    "                batch_texts.append(item[0])\n",
    "                batch_embeddings.append(embedding.tolist())\n",
    "\n",
    "        if batch_ids:  # Only add if there are valid documents in the batch\n",
    "            collection.add(\n",
    "                ids=batch_ids,\n",
    "                documents=batch_texts,\n",
    "                embeddings=batch_embeddings\n",
    "            )\n",
    "            total_added += len(batch_ids)\n",
    "            print(f\"Added batch of {len(batch_ids)} documents. Total added: {total_added}\")\n",
    "\n",
    "    return total_added\n",
    "\n",
    "# Add documents in batches\n",
    "total_documents_added = add_documents_in_batches(collection, retrieved_corpus, retrieved_embeddings)\n",
    "\n",
    "print(f\"Total documents added to ChromaDB: {total_documents_added}\")"
   ]
  },
  {
   "cell_type": "code",
   "execution_count": 1,
   "metadata": {},
   "outputs": [
    {
     "ename": "NameError",
     "evalue": "name 'collection' is not defined",
     "output_type": "error",
     "traceback": [
      "\u001b[1;31m---------------------------------------------------------------------------\u001b[0m",
      "\u001b[1;31mNameError\u001b[0m                                 Traceback (most recent call last)",
      "Cell \u001b[1;32mIn[1], line 1\u001b[0m\n\u001b[1;32m----> 1\u001b[0m results \u001b[38;5;241m=\u001b[39m \u001b[43mcollection\u001b[49m\u001b[38;5;241m.\u001b[39mquery(\n\u001b[0;32m      2\u001b[0m     query_texts\u001b[38;5;241m=\u001b[39m[\u001b[38;5;124m\"\u001b[39m\u001b[38;5;124mNatural Skincare Sets\u001b[39m\u001b[38;5;124m\"\u001b[39m], \u001b[38;5;66;03m# Chroma will embed this for you\u001b[39;00m\n\u001b[0;32m      3\u001b[0m     n_results\u001b[38;5;241m=\u001b[39m\u001b[38;5;241m10\u001b[39m \u001b[38;5;66;03m# how many results to return\u001b[39;00m\n\u001b[0;32m      4\u001b[0m )\n\u001b[0;32m      5\u001b[0m \u001b[38;5;28mprint\u001b[39m(results)\n\u001b[0;32m      6\u001b[0m \u001b[38;5;28mprint\u001b[39m(\u001b[38;5;124m\"\u001b[39m\u001b[38;5;124mTop 10 similar documents:\u001b[39m\u001b[38;5;124m\"\u001b[39m)\n",
      "\u001b[1;31mNameError\u001b[0m: name 'collection' is not defined"
     ]
    }
   ],
   "source": [
    "results = collection.query(\n",
    "    query_texts=[\"Smart Skincare Solutions\"], # Chroma will embed this for you\n",
    "    n_results=10 # how many results to return\n",
    ")\n",
    "print(results)\n",
    "print(\"Top 10 similar documents:\")\n",
    "for i, (doc_id, distance, document) in enumerate(zip(results['ids'][0], results['distances'][0], results['documents'][0]), 1):\n",
    "    print(f\"   Distance: {distance:.4f}\")\n",
    "    print(f\"   Document: {document}\")\n",
    "    print()"
   ]
  },
  {
   "cell_type": "code",
   "execution_count": null,
   "metadata": {},
   "outputs": [],
   "source": []
  },
  {
   "cell_type": "code",
   "execution_count": null,
   "metadata": {},
   "outputs": [],
   "source": []
  }
 ],
 "metadata": {
  "kernelspec": {
   "display_name": "master_torch_gpu",
   "language": "python",
   "name": "python3"
  },
  "language_info": {
   "codemirror_mode": {
    "name": "ipython",
    "version": 3
   },
   "file_extension": ".py",
   "mimetype": "text/x-python",
   "name": "python",
   "nbconvert_exporter": "python",
   "pygments_lexer": "ipython3",
   "version": "3.9.19"
  }
 },
 "nbformat": 4,
 "nbformat_minor": 2
}
