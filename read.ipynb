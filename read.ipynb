{
 "cells": [
  {
   "cell_type": "code",
   "execution_count": 2,
   "metadata": {},
   "outputs": [
    {
     "name": "stdout",
     "output_type": "stream",
     "text": [
      "Total parent_asin values in file 1: 19450\n",
      "Total parent_asin values in file 2: 112590\n",
      "All parent_asin values from file 1 exist in file 2.\n"
     ]
    },
    {
     "data": {
      "text/html": [
       "<div>\n",
       "<style scoped>\n",
       "    .dataframe tbody tr th:only-of-type {\n",
       "        vertical-align: middle;\n",
       "    }\n",
       "\n",
       "    .dataframe tbody tr th {\n",
       "        vertical-align: top;\n",
       "    }\n",
       "\n",
       "    .dataframe thead th {\n",
       "        text-align: right;\n",
       "    }\n",
       "</style>\n",
       "<table border=\"1\" class=\"dataframe\">\n",
       "  <thead>\n",
       "    <tr style=\"text-align: right;\">\n",
       "      <th></th>\n",
       "      <th>Missing parent_asin</th>\n",
       "    </tr>\n",
       "  </thead>\n",
       "  <tbody>\n",
       "  </tbody>\n",
       "</table>\n",
       "</div>"
      ],
      "text/plain": [
       "Empty DataFrame\n",
       "Columns: [Missing parent_asin]\n",
       "Index: []"
      ]
     },
     "execution_count": 2,
     "metadata": {},
     "output_type": "execute_result"
    }
   ],
   "source": [
    "import json\n",
    "import pandas as pd\n",
    "\n",
    "# Optionally, set display options for pandas\n",
    "pd.set_option('display.max_rows', 100)\n",
    "\n",
    "# Step 1: Load data from the first file\n",
    "# Choose either Option A or Option B depending on your file size\n",
    "\n",
    "# Option A: Using pandas\n",
    "df1 = pd.read_json('All_beauty_more_than_3.jsonl', lines=True)\n",
    "parent_asins_file1 = set(df1['parent_asin'].dropna())\n",
    "\n",
    "# Option B: Line-by-line reading\n",
    "# parent_asins_file1 = set()\n",
    "# with open('All_beauty_more_than_3.jsonl', 'r') as file1:\n",
    "#     for line in file1:\n",
    "#         data = json.loads(line)\n",
    "#         parent_asin = data.get('parent_asin')\n",
    "#         if parent_asin:\n",
    "#             parent_asins_file1.add(parent_asin)\n",
    "\n",
    "print(f\"Total parent_asin values in file 1: {len(parent_asins_file1)}\")\n",
    "\n",
    "# Step 2: Load data from the second file\n",
    "# Choose either Option A or Option B depending on your file size\n",
    "\n",
    "# Option A: Using pandas\n",
    "df2 = pd.read_json('meta_All_Beauty.jsonl', lines=True)\n",
    "parent_asins_file2 = set(df2['parent_asin'].dropna())\n",
    "\n",
    "# Option B: Line-by-line reading\n",
    "# parent_asins_file2 = set()\n",
    "# with open('meta_All_Beauty.jsonl', 'r') as file2:\n",
    "#     for line in file2:\n",
    "#         data = json.loads(line)\n",
    "#         parent_asin = data.get('parent_asin')\n",
    "#         if parent_asin:\n",
    "#             parent_asins_file2.add(parent_asin)\n",
    "\n",
    "print(f\"Total parent_asin values in file 2: {len(parent_asins_file2)}\")\n",
    "\n",
    "# Step 3: Compare the parent_asin values\n",
    "missing_parent_asins = parent_asins_file1 - parent_asins_file2\n",
    "\n",
    "if missing_parent_asins:\n",
    "    print(f\"The following {len(missing_parent_asins)} parent_asin values from file 1 are missing in file 2:\")\n",
    "    for asin in missing_parent_asins:\n",
    "        print(asin)\n",
    "else:\n",
    "    print(\"All parent_asin values from file 1 exist in file 2.\")\n",
    "\n",
    "# Optional: Display missing parent_asin values in a DataFrame\n",
    "missing_asins_df = pd.DataFrame(list(missing_parent_asins), columns=['Missing parent_asin'])\n",
    "missing_asins_df\n"
   ]
  },
  {
   "cell_type": "code",
   "execution_count": null,
   "metadata": {},
   "outputs": [],
   "source": []
  }
 ],
 "metadata": {
  "kernelspec": {
   "display_name": "master_torch_gpu",
   "language": "python",
   "name": "python3"
  },
  "language_info": {
   "codemirror_mode": {
    "name": "ipython",
    "version": 3
   },
   "file_extension": ".py",
   "mimetype": "text/x-python",
   "name": "python",
   "nbconvert_exporter": "python",
   "pygments_lexer": "ipython3",
   "version": "3.9.19"
  }
 },
 "nbformat": 4,
 "nbformat_minor": 2
}
